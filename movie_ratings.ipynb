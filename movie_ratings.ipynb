{
 "cells": [
  {
   "cell_type": "code",
   "execution_count": 163,
   "id": "1e9a52e8",
   "metadata": {},
   "outputs": [],
   "source": [
    "from sklearn.datasets import load_files\n",
    "import matplotlib.pyplot as plt"
   ]
  },
  {
   "cell_type": "code",
   "execution_count": 164,
   "id": "a5e36c8c",
   "metadata": {},
   "outputs": [],
   "source": [
    "from collections import Counter\n",
    "from sklearn.linear_model import LogisticRegression\n",
    "from sklearn.model_selection import cross_val_score, GridSearchCV, RandomizedSearchCV \n",
    "from sklearn.pipeline import make_pipeline"
   ]
  },
  {
   "cell_type": "code",
   "execution_count": 165,
   "id": "d0691834",
   "metadata": {},
   "outputs": [],
   "source": [
    "from sklearn.feature_extraction.text import CountVectorizer, TfidfVectorizer\n",
    "import spacy \n",
    "import nltk\n",
    "from sklearn.decomposition import LatentDirichletAllocation as LDA"
   ]
  },
  {
   "cell_type": "markdown",
   "id": "570b79a5",
   "metadata": {},
   "source": [
    "# NLP on IMDb \n",
    "- IMDb: Internet Movie Database\n",
    "- Task: Classification of Positive and Negative Reviews"
   ]
  },
  {
   "cell_type": "markdown",
   "id": "7f9cc14e",
   "metadata": {},
   "source": [
    "## Import Data\n",
    "- The dataset is available at http://ai.stanford.edu/~amaas/data/sentiment/.\n",
    "- data will be imported as a bunch object\n",
    "- there are 25000 reviews in each of the training and test sets (TOTAL: 50000)\n",
    "- Each 25000 has 12500 psoitive and 12500 negative review"
   ]
  },
  {
   "cell_type": "code",
   "execution_count": 166,
   "id": "7b0863c9",
   "metadata": {},
   "outputs": [],
   "source": [
    "bunch_train = load_files('aclImdb_v1/aclImdb/train/')\n",
    "bunch_test  = load_files('aclImdb_v1/aclImdb/test/')"
   ]
  },
  {
   "cell_type": "markdown",
   "id": "d8398eb2",
   "metadata": {},
   "source": [
    "### Data"
   ]
  },
  {
   "cell_type": "code",
   "execution_count": 5,
   "id": "c83b1daa",
   "metadata": {},
   "outputs": [
    {
     "data": {
      "text/plain": [
       "sklearn.utils.Bunch"
      ]
     },
     "execution_count": 5,
     "metadata": {},
     "output_type": "execute_result"
    }
   ],
   "source": [
    "type(bunch_train)"
   ]
  },
  {
   "cell_type": "code",
   "execution_count": 6,
   "id": "a7a0a94b",
   "metadata": {
    "scrolled": true
   },
   "outputs": [
    {
     "data": {
      "text/plain": [
       "dict_keys(['data', 'filenames', 'target_names', 'target', 'DESCR'])"
      ]
     },
     "execution_count": 6,
     "metadata": {},
     "output_type": "execute_result"
    }
   ],
   "source": [
    "bunch_train.keys()"
   ]
  },
  {
   "cell_type": "code",
   "execution_count": 7,
   "id": "ee5c243f",
   "metadata": {},
   "outputs": [
    {
     "data": {
      "text/plain": [
       "b\"Zero Day leads you to think, even re-think why two boys/young men would do what they did - commit mutual suicide via slaughtering their classmates. It captures what must be beyond a bizarre mode of being for two humans who have decided to withdraw from common civility in order to define their own/mutual world via coupled destruction.<br /><br />It is not a perfect movie but given what money/time the filmmaker and actors had - it is a remarkable product. In terms of explaining the motives and actions of the two young suicide/murderers it is better than 'Elephant' - in terms of being a film that gets under our 'rationalistic' skin it is a far, far better film than almost anything you are likely to see. <br /><br />Flawed but honest with a terrible honesty.\""
      ]
     },
     "execution_count": 7,
     "metadata": {},
     "output_type": "execute_result"
    }
   ],
   "source": [
    "bunch_train.data[0]"
   ]
  },
  {
   "cell_type": "code",
   "execution_count": 8,
   "id": "baa2627d",
   "metadata": {},
   "outputs": [
    {
     "data": {
      "text/plain": [
       "b'Words can\\'t describe how bad this movie is. I can\\'t explain it by writing only. You have too see it for yourself to get at grip of how horrible a movie really can be. Not that I recommend you to do that. There are so many clich\\xc3\\xa9s, mistakes (and all other negative things you can imagine) here that will just make you cry. To start with the technical first, there are a LOT of mistakes regarding the airplane. I won\\'t list them here, but just mention the coloring of the plane. They didn\\'t even manage to show an airliner in the colors of a fictional airline, but instead used a 747 painted in the original Boeing livery. Very bad. The plot is stupid and has been done many times before, only much, much better. There are so many ridiculous moments here that i lost count of it really early. Also, I was on the bad guys\\' side all the time in the movie, because the good guys were so stupid. \"Executive Decision\" should without a doubt be you\\'re choice over this one, even the \"Turbulence\"-movies are better. In fact, every other movie in the world is better than this one.'"
      ]
     },
     "execution_count": 8,
     "metadata": {},
     "output_type": "execute_result"
    }
   ],
   "source": [
    "bunch_train.data[1]"
   ]
  },
  {
   "cell_type": "markdown",
   "id": "2c8539fa",
   "metadata": {},
   "source": [
    "__Byte Object__\n",
    "- sequence of bytes  \n",
    "- in machine readible form internally"
   ]
  },
  {
   "cell_type": "code",
   "execution_count": 9,
   "id": "dce7a6fc",
   "metadata": {},
   "outputs": [
    {
     "data": {
      "text/plain": [
       "bytes"
      ]
     },
     "execution_count": 9,
     "metadata": {},
     "output_type": "execute_result"
    }
   ],
   "source": [
    "type(bunch_train.data[1])"
   ]
  },
  {
   "cell_type": "markdown",
   "id": "49442a32",
   "metadata": {},
   "source": [
    "### target\n",
    "- 1: positive\n",
    "- 0: negative"
   ]
  },
  {
   "cell_type": "code",
   "execution_count": 10,
   "id": "49711bfc",
   "metadata": {},
   "outputs": [
    {
     "data": {
      "text/plain": [
       "array([1, 0])"
      ]
     },
     "execution_count": 10,
     "metadata": {},
     "output_type": "execute_result"
    }
   ],
   "source": [
    "bunch_train.target[:2]"
   ]
  },
  {
   "cell_type": "code",
   "execution_count": 11,
   "id": "ecf40507",
   "metadata": {},
   "outputs": [
    {
     "data": {
      "text/plain": [
       "Counter({1: 12500, 0: 12500})"
      ]
     },
     "execution_count": 11,
     "metadata": {},
     "output_type": "execute_result"
    }
   ],
   "source": [
    "Counter(bunch_train.target)"
   ]
  },
  {
   "cell_type": "code",
   "execution_count": 12,
   "id": "a2df5f36",
   "metadata": {},
   "outputs": [
    {
     "data": {
      "text/plain": [
       "Counter({1: 12500, 0: 12500})"
      ]
     },
     "execution_count": 12,
     "metadata": {},
     "output_type": "execute_result"
    }
   ],
   "source": [
    "Counter(bunch_test.target)"
   ]
  },
  {
   "cell_type": "markdown",
   "id": "924591e9",
   "metadata": {},
   "source": [
    "### train, test "
   ]
  },
  {
   "cell_type": "code",
   "execution_count": 167,
   "id": "791c8118",
   "metadata": {},
   "outputs": [],
   "source": [
    "X_train, y_train = bunch_train.data, bunch_train.target\n",
    "X_test , y_test  = bunch_test.data , bunch_test.target"
   ]
  },
  {
   "cell_type": "code",
   "execution_count": 168,
   "id": "0030144f",
   "metadata": {},
   "outputs": [],
   "source": [
    "N = 1_000\n",
    "X_train = [review.replace(b\"<br />\",b\"\")  for review in X_train][:N]\n",
    "X_test = [review.replace(b\"<br />\",b\"\")  for review in X_test][:N]\n",
    "y_train = y_train[:N]\n",
    "y_test = y_test[:N]"
   ]
  },
  {
   "cell_type": "code",
   "execution_count": 19,
   "id": "e7170c93",
   "metadata": {},
   "outputs": [
    {
     "data": {
      "text/plain": [
       "array([498, 502], dtype=int64)"
      ]
     },
     "execution_count": 19,
     "metadata": {},
     "output_type": "execute_result"
    }
   ],
   "source": [
    "import numpy as np\n",
    "np.bincount(y_train)"
   ]
  },
  {
   "cell_type": "code",
   "execution_count": 20,
   "id": "f03e512d",
   "metadata": {},
   "outputs": [
    {
     "data": {
      "text/plain": [
       "array([498, 502], dtype=int64)"
      ]
     },
     "execution_count": 20,
     "metadata": {},
     "output_type": "execute_result"
    }
   ],
   "source": [
    "np.bincount(y_test)"
   ]
  },
  {
   "cell_type": "markdown",
   "id": "fc2f36e0",
   "metadata": {},
   "source": [
    "## Data Cleaning"
   ]
  },
  {
   "cell_type": "code",
   "execution_count": 21,
   "id": "6b36e85e",
   "metadata": {},
   "outputs": [
    {
     "data": {
      "text/plain": [
       "b\"Zero Day leads you to think, even re-think why two boys/young men would do what they did - commit mutual suicide via slaughtering their classmates. It captures what must be beyond a bizarre mode of being for two humans who have decided to withdraw from common civility in order to define their own/mutual world via coupled destruction.It is not a perfect movie but given what money/time the filmmaker and actors had - it is a remarkable product. In terms of explaining the motives and actions of the two young suicide/murderers it is better than 'Elephant' - in terms of being a film that gets under our 'rationalistic' skin it is a far, far better film than almost anything you are likely to see. Flawed but honest with a terrible honesty.\""
      ]
     },
     "execution_count": 21,
     "metadata": {},
     "output_type": "execute_result"
    }
   ],
   "source": [
    "review = X_train[0]\n",
    "review"
   ]
  },
  {
   "cell_type": "code",
   "execution_count": 22,
   "id": "6a1b4d2b",
   "metadata": {
    "scrolled": true
   },
   "outputs": [
    {
     "data": {
      "text/plain": [
       "b\"Zero Day leads you to think, even re-think why two boys/young men would do what they did - commit mutual suicide via slaughtering their classmates. It captures what must be beyond a bizarre mode of being for two humans who have decided to withdraw from common civility in order to define their own/mutual world via coupled destruction.It is not a perfect movie but given what money/time the filmmaker and actors had - it is a remarkable product. In terms of explaining the motives and actions of the two young suicide/murderers it is better than 'Elephant' - in terms of being a film that gets under our 'rationalistic' skin it is a far, far better film than almost anything you are likely to see. Flawed but honest with a terrible honesty.\""
      ]
     },
     "execution_count": 22,
     "metadata": {},
     "output_type": "execute_result"
    }
   ],
   "source": [
    "review.replace(b'<br />', b' ')"
   ]
  },
  {
   "cell_type": "code",
   "execution_count": 169,
   "id": "99793033",
   "metadata": {},
   "outputs": [],
   "source": [
    "X_train = [review.replace(b'<br />', b' ')  for review in X_train]\n",
    "X_test = [review.replace(b'<br />', b' ')  for review in X_test]"
   ]
  },
  {
   "cell_type": "markdown",
   "id": "1fe734ec",
   "metadata": {},
   "source": [
    "## Bag of Words"
   ]
  },
  {
   "cell_type": "code",
   "execution_count": 24,
   "id": "17458c87",
   "metadata": {},
   "outputs": [],
   "source": [
    "vect = CountVectorizer()\n",
    "vect.fit(X_train)\n",
    "X_train_bag = vect.transform(X_train)"
   ]
  },
  {
   "cell_type": "code",
   "execution_count": 25,
   "id": "9b02197d",
   "metadata": {},
   "outputs": [
    {
     "data": {
      "text/plain": [
       "(1000, 18134)"
      ]
     },
     "execution_count": 25,
     "metadata": {},
     "output_type": "execute_result"
    }
   ],
   "source": [
    "X_train_bag.shape"
   ]
  },
  {
   "cell_type": "code",
   "execution_count": 24,
   "id": "31b3acb9",
   "metadata": {},
   "outputs": [
    {
     "data": {
      "text/plain": [
       "array(['00', '000', '007', '01', '06', '07', '08', '10', '100', '1000',\n",
       "       '1000lb', '100mph', '101', '104', '105', '10quality', '10s',\n",
       "       '10star', '10th', '11'], dtype=object)"
      ]
     },
     "execution_count": 24,
     "metadata": {},
     "output_type": "execute_result"
    }
   ],
   "source": [
    "vect.get_feature_names_out()[:20]"
   ]
  },
  {
   "cell_type": "code",
   "execution_count": 25,
   "id": "50ec842d",
   "metadata": {},
   "outputs": [
    {
     "data": {
      "text/plain": [
       "array(['zipper', 'zivagho', 'zizek', 'zoe', 'zombi', 'zombie', 'zombies',\n",
       "       'zombified', 'zone', 'zoo', 'zoology', 'zoom', 'zooming', 'zorak',\n",
       "       'zorrilla', 'zorro', 'zubeidaa', 'zuzz', 'zzzzz', 'ánd'],\n",
       "      dtype=object)"
      ]
     },
     "execution_count": 25,
     "metadata": {},
     "output_type": "execute_result"
    }
   ],
   "source": [
    "vect.get_feature_names_out()[-20:]"
   ]
  },
  {
   "cell_type": "code",
   "execution_count": 27,
   "id": "92a7735a",
   "metadata": {},
   "outputs": [
    {
     "data": {
      "text/plain": [
       "array(['kirshner', 'kirsten', 'kiss', 'kissed', 'kisses', 'kissing',\n",
       "       'kitbag', 'kitchen', 'kitschy', 'kitted', 'kitty', 'klane',\n",
       "       'klaus', 'klaveno', 'klaw', 'klaymation', 'klemperer', 'klimt',\n",
       "       'kline', 'klingon'], dtype=object)"
      ]
     },
     "execution_count": 27,
     "metadata": {},
     "output_type": "execute_result"
    }
   ],
   "source": [
    "vect.get_feature_names_out()[9_000:9_020]"
   ]
  },
  {
   "cell_type": "code",
   "execution_count": 27,
   "id": "8f7876e8",
   "metadata": {},
   "outputs": [
    {
     "data": {
      "text/plain": [
       "(1000, 3662)"
      ]
     },
     "execution_count": 27,
     "metadata": {},
     "output_type": "execute_result"
    }
   ],
   "source": [
    "vect = CountVectorizer(min_df=5)\n",
    "vect.fit(X_train)\n",
    "X_train_bag = vect.transform(X_train)\n",
    "X_train_bag.shape"
   ]
  },
  {
   "cell_type": "code",
   "execution_count": 31,
   "id": "11002985",
   "metadata": {},
   "outputs": [
    {
     "data": {
      "text/plain": [
       "(1000, 13591)"
      ]
     },
     "execution_count": 31,
     "metadata": {},
     "output_type": "execute_result"
    }
   ],
   "source": [
    "vect = CountVectorizer(max_df=3)\n",
    "vect.fit(X_train)\n",
    "X_train_bag = vect.transform(X_train)\n",
    "X_train_bag.shape"
   ]
  },
  {
   "cell_type": "code",
   "execution_count": 32,
   "id": "d108ce61",
   "metadata": {},
   "outputs": [
    {
     "data": {
      "text/plain": [
       "(1000, 17838)"
      ]
     },
     "execution_count": 32,
     "metadata": {},
     "output_type": "execute_result"
    }
   ],
   "source": [
    "vect = CountVectorizer(stop_words='english')\n",
    "vect.fit(X_train)\n",
    "X_train_bag = vect.transform(X_train)\n",
    "X_train_bag.shape"
   ]
  },
  {
   "cell_type": "code",
   "execution_count": 33,
   "id": "9bca68d1",
   "metadata": {},
   "outputs": [
    {
     "data": {
      "text/plain": [
       "array([[0, 0, 0, ..., 0, 0, 0],\n",
       "       [0, 0, 0, ..., 0, 0, 0],\n",
       "       [0, 0, 0, ..., 0, 0, 0],\n",
       "       ...,\n",
       "       [0, 0, 0, ..., 0, 0, 0],\n",
       "       [0, 0, 0, ..., 0, 0, 0],\n",
       "       [0, 0, 0, ..., 0, 0, 0]], dtype=int64)"
      ]
     },
     "execution_count": 33,
     "metadata": {},
     "output_type": "execute_result"
    }
   ],
   "source": [
    "X_train_bag.toarray()"
   ]
  },
  {
   "cell_type": "markdown",
   "id": "077d616d",
   "metadata": {},
   "source": [
    "# Logistic Regression"
   ]
  },
  {
   "cell_type": "markdown",
   "id": "4b7b52ee",
   "metadata": {},
   "source": [
    "## Cross Validation"
   ]
  },
  {
   "cell_type": "code",
   "execution_count": 34,
   "id": "c0df913f",
   "metadata": {},
   "outputs": [
    {
     "data": {
      "text/plain": [
       "(1000, 18134)"
      ]
     },
     "execution_count": 34,
     "metadata": {},
     "output_type": "execute_result"
    }
   ],
   "source": [
    "vect = CountVectorizer()\n",
    "vect.fit(X_train)\n",
    "X_train_bag = vect.transform(X_train)\n",
    "X_train_bag.shape"
   ]
  },
  {
   "cell_type": "code",
   "execution_count": 35,
   "id": "aa9097e0",
   "metadata": {},
   "outputs": [
    {
     "data": {
      "text/plain": [
       "array([[0, 0, 0, ..., 0, 0, 0]], dtype=int64)"
      ]
     },
     "execution_count": 35,
     "metadata": {},
     "output_type": "execute_result"
    }
   ],
   "source": [
    "X_train_bag[0].toarray()"
   ]
  },
  {
   "cell_type": "code",
   "execution_count": 36,
   "id": "0152e61b",
   "metadata": {},
   "outputs": [
    {
     "data": {
      "text/plain": [
       "array([0.745, 0.78 , 0.785, 0.82 , 0.815])"
      ]
     },
     "execution_count": 36,
     "metadata": {},
     "output_type": "execute_result"
    }
   ],
   "source": [
    "scores = cross_val_score(LogisticRegression(max_iter=1000), X_train_bag, y_train, cv=5)\n",
    "scores"
   ]
  },
  {
   "cell_type": "code",
   "execution_count": 37,
   "id": "95ca0128",
   "metadata": {},
   "outputs": [
    {
     "data": {
      "text/plain": [
       "0.7889999999999999"
      ]
     },
     "execution_count": 37,
     "metadata": {},
     "output_type": "execute_result"
    }
   ],
   "source": [
    "scores.mean()"
   ]
  },
  {
   "cell_type": "markdown",
   "id": "55cdcf34",
   "metadata": {},
   "source": [
    "## Cross Validation (min_df)"
   ]
  },
  {
   "cell_type": "code",
   "execution_count": 38,
   "id": "b5b4ef32",
   "metadata": {},
   "outputs": [
    {
     "data": {
      "text/plain": [
       "(1000, 3662)"
      ]
     },
     "execution_count": 38,
     "metadata": {},
     "output_type": "execute_result"
    }
   ],
   "source": [
    "vect = CountVectorizer(min_df=5)\n",
    "vect.fit(X_train)\n",
    "X_train_bag = vect.transform(X_train)\n",
    "X_train_bag.shape"
   ]
  },
  {
   "cell_type": "code",
   "execution_count": 40,
   "id": "4067f41d",
   "metadata": {},
   "outputs": [
    {
     "data": {
      "text/plain": [
       "array([0.725, 0.76 , 0.785, 0.82 , 0.805])"
      ]
     },
     "execution_count": 40,
     "metadata": {},
     "output_type": "execute_result"
    }
   ],
   "source": [
    "scores = cross_val_score(LogisticRegression(max_iter=1000), X_train_bag, y_train, cv=5)\n",
    "scores"
   ]
  },
  {
   "cell_type": "code",
   "execution_count": 41,
   "id": "63bfa47a",
   "metadata": {},
   "outputs": [
    {
     "data": {
      "text/plain": [
       "0.779"
      ]
     },
     "execution_count": 41,
     "metadata": {},
     "output_type": "execute_result"
    }
   ],
   "source": [
    "scores.mean()"
   ]
  },
  {
   "cell_type": "markdown",
   "id": "ba78aa4e",
   "metadata": {},
   "source": [
    "## Grid Search"
   ]
  },
  {
   "cell_type": "code",
   "execution_count": 65,
   "id": "14dfd7ff",
   "metadata": {},
   "outputs": [
    {
     "data": {
      "text/plain": [
       "(1000, 3662)"
      ]
     },
     "execution_count": 65,
     "metadata": {},
     "output_type": "execute_result"
    }
   ],
   "source": [
    "vect = CountVectorizer(min_df=5)\n",
    "vect.fit(X_train)\n",
    "X_train_bag = vect.transform(X_train)\n",
    "X_test_bag = vect.transform(X_test)\n",
    "X_train_bag.shape"
   ]
  },
  {
   "cell_type": "code",
   "execution_count": 55,
   "id": "a531c917",
   "metadata": {},
   "outputs": [],
   "source": [
    "param_grid = {'C':[ 0.01, 0.1, 1,10,100]}"
   ]
  },
  {
   "cell_type": "code",
   "execution_count": 56,
   "id": "b27aec99",
   "metadata": {
    "scrolled": true
   },
   "outputs": [
    {
     "data": {
      "text/plain": [
       "GridSearchCV(cv=3, estimator=LogisticRegression(max_iter=10000),\n",
       "             param_grid={'C': [0.01, 0.1, 1, 10, 100]})"
      ]
     },
     "execution_count": 56,
     "metadata": {},
     "output_type": "execute_result"
    }
   ],
   "source": [
    "gs = GridSearchCV(LogisticRegression(max_iter=10_000), param_grid, cv=3)\n",
    "gs.fit(X_train_bag, y_train)"
   ]
  },
  {
   "cell_type": "code",
   "execution_count": 57,
   "id": "eb41c0b6",
   "metadata": {},
   "outputs": [
    {
     "data": {
      "text/plain": [
       "0.997"
      ]
     },
     "execution_count": 57,
     "metadata": {},
     "output_type": "execute_result"
    }
   ],
   "source": [
    "gs.score(X_train_bag, y_train)"
   ]
  },
  {
   "cell_type": "code",
   "execution_count": 58,
   "id": "24b653ec",
   "metadata": {},
   "outputs": [
    {
     "data": {
      "text/plain": [
       "0.784"
      ]
     },
     "execution_count": 58,
     "metadata": {},
     "output_type": "execute_result"
    }
   ],
   "source": [
    "gs.score(X_test_bag, y_test)"
   ]
  },
  {
   "cell_type": "code",
   "execution_count": 59,
   "id": "78a7f01b",
   "metadata": {},
   "outputs": [
    {
     "data": {
      "text/plain": [
       "{'C': 0.1}"
      ]
     },
     "execution_count": 59,
     "metadata": {},
     "output_type": "execute_result"
    }
   ],
   "source": [
    "gs.best_params_"
   ]
  },
  {
   "cell_type": "code",
   "execution_count": 60,
   "id": "1a91c032",
   "metadata": {},
   "outputs": [
    {
     "data": {
      "text/plain": [
       "array([[-0.01236032, -0.11540994, -0.00566475, ..., -0.01734724,\n",
       "         0.05292583, -0.0785146 ]])"
      ]
     },
     "execution_count": 60,
     "metadata": {},
     "output_type": "execute_result"
    }
   ],
   "source": [
    "gs.best_estimator_.coef_"
   ]
  },
  {
   "cell_type": "code",
   "execution_count": 61,
   "id": "4ae7e939",
   "metadata": {},
   "outputs": [
    {
     "data": {
      "text/plain": [
       "(1, 3662)"
      ]
     },
     "execution_count": 61,
     "metadata": {},
     "output_type": "execute_result"
    }
   ],
   "source": [
    "gs.best_estimator_.coef_.shape"
   ]
  },
  {
   "cell_type": "code",
   "execution_count": 50,
   "id": "be8f8ba3",
   "metadata": {},
   "outputs": [
    {
     "data": {
      "text/plain": [
       "1429"
      ]
     },
     "execution_count": 50,
     "metadata": {},
     "output_type": "execute_result"
    }
   ],
   "source": [
    "gs.best_estimator_.coef_.argmax()"
   ]
  },
  {
   "cell_type": "code",
   "execution_count": 51,
   "id": "4b650c0e",
   "metadata": {},
   "outputs": [
    {
     "data": {
      "text/plain": [
       "'great'"
      ]
     },
     "execution_count": 51,
     "metadata": {},
     "output_type": "execute_result"
    }
   ],
   "source": [
    "vect.get_feature_names_out()[gs.best_estimator_.coef_.argmax()]"
   ]
  },
  {
   "cell_type": "code",
   "execution_count": 52,
   "id": "5c0693c5",
   "metadata": {},
   "outputs": [
    {
     "data": {
      "text/plain": [
       "0.5628885293483696"
      ]
     },
     "execution_count": 52,
     "metadata": {},
     "output_type": "execute_result"
    }
   ],
   "source": [
    "gs.best_estimator_.coef_[0,gs.best_estimator_.coef_.argmax()]"
   ]
  },
  {
   "cell_type": "code",
   "execution_count": 53,
   "id": "c5c7aaaa",
   "metadata": {},
   "outputs": [
    {
     "data": {
      "text/plain": [
       "'bad'"
      ]
     },
     "execution_count": 53,
     "metadata": {},
     "output_type": "execute_result"
    }
   ],
   "source": [
    "vect.get_feature_names_out()[gs.best_estimator_.coef_.argmin()]"
   ]
  },
  {
   "cell_type": "code",
   "execution_count": 54,
   "id": "6e336917",
   "metadata": {},
   "outputs": [
    {
     "data": {
      "text/plain": [
       "-0.7317529942898512"
      ]
     },
     "execution_count": 54,
     "metadata": {},
     "output_type": "execute_result"
    }
   ],
   "source": [
    "gs.best_estimator_.coef_[0,gs.best_estimator_.coef_.argmin()]"
   ]
  },
  {
   "cell_type": "code",
   "execution_count": 64,
   "id": "9ee298df",
   "metadata": {},
   "outputs": [
    {
     "data": {
      "text/plain": [
       "array([[-0.01236032, -0.11540994, -0.00566475, ..., -0.01734724,\n",
       "         0.05292583, -0.0785146 ]])"
      ]
     },
     "execution_count": 64,
     "metadata": {},
     "output_type": "execute_result"
    }
   ],
   "source": [
    "coef = gs.best_estimator_.coef_\n",
    "coef[:10]"
   ]
  },
  {
   "cell_type": "code",
   "execution_count": 66,
   "id": "6996c447",
   "metadata": {},
   "outputs": [
    {
     "data": {
      "text/plain": [
       "array(['000', '10', '100', '11', '12', '14', '15', '17', '19', '1930s'],\n",
       "      dtype=object)"
      ]
     },
     "execution_count": 66,
     "metadata": {},
     "output_type": "execute_result"
    }
   ],
   "source": [
    "f_names = vect.get_feature_names_out()\n",
    "f_names[:10]"
   ]
  },
  {
   "cell_type": "code",
   "execution_count": 85,
   "id": "912465d9",
   "metadata": {},
   "outputs": [
    {
     "data": {
      "text/plain": [
       "array([[ 292, 3627,  285, ..., 2348, 1059, 1429]], dtype=int64)"
      ]
     },
     "execution_count": 85,
     "metadata": {},
     "output_type": "execute_result"
    }
   ],
   "source": [
    "coef.argsort()"
   ]
  },
  {
   "cell_type": "code",
   "execution_count": 86,
   "id": "ff13d0b9",
   "metadata": {},
   "outputs": [
    {
     "data": {
      "text/plain": [
       "array([['bad', 'worst', 'awful', ..., 'perfect', 'enjoy', 'great']],\n",
       "      dtype=object)"
      ]
     },
     "execution_count": 86,
     "metadata": {},
     "output_type": "execute_result"
    }
   ],
   "source": [
    "f_names[coef.argsort()]"
   ]
  },
  {
   "cell_type": "code",
   "execution_count": 88,
   "id": "841fa12c",
   "metadata": {},
   "outputs": [
    {
     "data": {
      "text/plain": [
       "array([[-0.73175299, -0.47677322, -0.43355829, ...,  0.37207137,\n",
       "         0.39921872,  0.56288853]])"
      ]
     },
     "execution_count": 88,
     "metadata": {},
     "output_type": "execute_result"
    }
   ],
   "source": [
    "coef[0,coef.argsort()]"
   ]
  },
  {
   "cell_type": "code",
   "execution_count": 98,
   "id": "14c381e6",
   "metadata": {},
   "outputs": [
    {
     "data": {
      "image/png": "[encoded data removed]",
      "text/plain": [
       "<Figure size 1440x360 with 1 Axes>"
      ]
     },
     "metadata": {
      "needs_background": "light"
     },
     "output_type": "display_data"
    }
   ],
   "source": [
    "N = 20\n",
    "plt.figure(figsize=(20,5))\n",
    "plt.title('Negative features')\n",
    "plt.bar( f_names[coef.argsort()][0,:N], coef[0,coef.argsort()][0,:N] );"
   ]
  },
  {
   "cell_type": "code",
   "execution_count": 99,
   "id": "bd63a6d6",
   "metadata": {},
   "outputs": [
    {
     "data": {
      "image/png": "[encoded data removed]",
      "text/plain": [
       "<Figure size 1440x360 with 1 Axes>"
      ]
     },
     "metadata": {
      "needs_background": "light"
     },
     "output_type": "display_data"
    }
   ],
   "source": [
    "N = 20\n",
    "plt.figure(figsize=(20,5))\n",
    "plt.title('Positive features')\n",
    "plt.bar( f_names[coef.argsort()][0,-N:], coef[0,coef.argsort()][0,-N:] );"
   ]
  },
  {
   "cell_type": "code",
   "execution_count": 109,
   "id": "a8304715",
   "metadata": {},
   "outputs": [
    {
     "data": {
      "image/png": "[encoded data removed]",
      "text/plain": [
       "<Figure size 1440x360 with 1 Axes>"
      ]
     },
     "metadata": {
      "needs_background": "light"
     },
     "output_type": "display_data"
    }
   ],
   "source": [
    "N = 30\n",
    "features = np.hstack( [f_names[coef.argsort()][0,:N], f_names[coef.argsort()][0,-N:]])\n",
    "coefficients = np.hstack([coef[0,coef.argsort()][0,:N],coef[0,coef.argsort()][0,-N:]])\n",
    "\n",
    "plt.figure(figsize=(20,5))\n",
    "plt.bar(features, coefficients)\n",
    "plt.xticks(rotation=90);"
   ]
  },
  {
   "cell_type": "code",
   "execution_count": null,
   "id": "7bca2ebd",
   "metadata": {},
   "outputs": [],
   "source": []
  },
  {
   "cell_type": "code",
   "execution_count": null,
   "id": "84891c58",
   "metadata": {},
   "outputs": [],
   "source": []
  },
  {
   "cell_type": "markdown",
   "id": "ed09c8dc",
   "metadata": {},
   "source": [
    "## RandomizedSearch"
   ]
  },
  {
   "cell_type": "code",
   "execution_count": 110,
   "id": "5c8ed402",
   "metadata": {},
   "outputs": [],
   "source": [
    "param_grid = {'C':[ 0.01, 0.1, 1, 10]}"
   ]
  },
  {
   "cell_type": "code",
   "execution_count": 111,
   "id": "a472ee17",
   "metadata": {},
   "outputs": [
    {
     "data": {
      "text/plain": [
       "RandomizedSearchCV(cv=3, estimator=LogisticRegression(max_iter=10000), n_iter=2,\n",
       "                   param_distributions={'C': [0.01, 0.1, 1, 10]})"
      ]
     },
     "execution_count": 111,
     "metadata": {},
     "output_type": "execute_result"
    }
   ],
   "source": [
    "rs = RandomizedSearchCV(LogisticRegression(max_iter=10_000), param_grid, n_iter=2, cv=3)\n",
    "rs.fit(X_train_bag, y_train)"
   ]
  },
  {
   "cell_type": "code",
   "execution_count": 112,
   "id": "7027833a",
   "metadata": {},
   "outputs": [
    {
     "data": {
      "text/plain": [
       "0.997"
      ]
     },
     "execution_count": 112,
     "metadata": {},
     "output_type": "execute_result"
    }
   ],
   "source": [
    "rs.score(X_train_bag, y_train)"
   ]
  },
  {
   "cell_type": "code",
   "execution_count": 113,
   "id": "4fb7dd3e",
   "metadata": {},
   "outputs": [
    {
     "data": {
      "text/plain": [
       "0.784"
      ]
     },
     "execution_count": 113,
     "metadata": {},
     "output_type": "execute_result"
    }
   ],
   "source": [
    "rs.score(X_test_bag, y_test)"
   ]
  },
  {
   "cell_type": "code",
   "execution_count": 114,
   "id": "6d7300fd",
   "metadata": {},
   "outputs": [
    {
     "data": {
      "text/plain": [
       "{'mean_fit_time': array([0.10552303, 0.18339904]),\n",
       " 'std_fit_time': array([0.01762016, 0.02806275]),\n",
       " 'mean_score_time': array([0.00047453, 0.00068299]),\n",
       " 'std_score_time': array([0.00040902, 0.00022284]),\n",
       " 'param_C': masked_array(data=[0.1, 1],\n",
       "              mask=[False, False],\n",
       "        fill_value='?',\n",
       "             dtype=object),\n",
       " 'params': [{'C': 0.1}, {'C': 1}],\n",
       " 'split0_test_score': array([0.76347305, 0.76347305]),\n",
       " 'split1_test_score': array([0.8048048 , 0.81381381]),\n",
       " 'split2_test_score': array([0.7957958 , 0.77777778]),\n",
       " 'mean_test_score': array([0.78802455, 0.78502155]),\n",
       " 'std_test_score': array([0.01774585, 0.02118021]),\n",
       " 'rank_test_score': array([1, 2])}"
      ]
     },
     "execution_count": 114,
     "metadata": {},
     "output_type": "execute_result"
    }
   ],
   "source": [
    "rs.cv_results_"
   ]
  },
  {
   "cell_type": "code",
   "execution_count": 115,
   "id": "7bc019e2",
   "metadata": {},
   "outputs": [
    {
     "data": {
      "text/plain": [
       "{'C': 0.1}"
      ]
     },
     "execution_count": 115,
     "metadata": {},
     "output_type": "execute_result"
    }
   ],
   "source": [
    "rs.best_params_"
   ]
  },
  {
   "cell_type": "markdown",
   "id": "e11488a0",
   "metadata": {},
   "source": [
    "# tfidf"
   ]
  },
  {
   "cell_type": "code",
   "execution_count": 116,
   "id": "863329ca",
   "metadata": {},
   "outputs": [
    {
     "data": {
      "text/plain": [
       "(1000, 1912)"
      ]
     },
     "execution_count": 116,
     "metadata": {},
     "output_type": "execute_result"
    }
   ],
   "source": [
    "vect_tf = TfidfVectorizer(min_df=10).fit(X_train)\n",
    "X_train_tf = vect_tf.transform(X_train)\n",
    "X_test_tf = vect_tf.transform(X_test)\n",
    "X_train_tf.shape"
   ]
  },
  {
   "cell_type": "code",
   "execution_count": 117,
   "id": "15f145b5",
   "metadata": {},
   "outputs": [],
   "source": [
    "param_grid = {'C':[ 0.01, 0.1, 1,10]}"
   ]
  },
  {
   "cell_type": "code",
   "execution_count": 118,
   "id": "c3b23ad1",
   "metadata": {
    "scrolled": true
   },
   "outputs": [
    {
     "data": {
      "text/plain": [
       "GridSearchCV(cv=3, estimator=LogisticRegression(max_iter=10000),\n",
       "             param_grid={'C': [0.01, 0.1, 1, 10]})"
      ]
     },
     "execution_count": 118,
     "metadata": {},
     "output_type": "execute_result"
    }
   ],
   "source": [
    "gs = GridSearchCV(LogisticRegression(max_iter=10_000), param_grid, cv=3)\n",
    "gs.fit(X_train_tf, y_train)"
   ]
  },
  {
   "cell_type": "code",
   "execution_count": 119,
   "id": "04958b68",
   "metadata": {},
   "outputs": [
    {
     "data": {
      "text/plain": [
       "1.0"
      ]
     },
     "execution_count": 119,
     "metadata": {},
     "output_type": "execute_result"
    }
   ],
   "source": [
    "gs.score(X_train_tf, y_train)"
   ]
  },
  {
   "cell_type": "code",
   "execution_count": 120,
   "id": "504bf74e",
   "metadata": {},
   "outputs": [
    {
     "data": {
      "text/plain": [
       "0.799"
      ]
     },
     "execution_count": 120,
     "metadata": {},
     "output_type": "execute_result"
    }
   ],
   "source": [
    "gs.score(X_test_tf, y_test)"
   ]
  },
  {
   "cell_type": "code",
   "execution_count": 121,
   "id": "e3b03419",
   "metadata": {},
   "outputs": [
    {
     "data": {
      "text/plain": [
       "{'C': 10}"
      ]
     },
     "execution_count": 121,
     "metadata": {},
     "output_type": "execute_result"
    }
   ],
   "source": [
    "gs.best_params_"
   ]
  },
  {
   "cell_type": "markdown",
   "id": "7810adbc",
   "metadata": {},
   "source": [
    "# ngrams"
   ]
  },
  {
   "cell_type": "code",
   "execution_count": 122,
   "id": "53575ebe",
   "metadata": {},
   "outputs": [
    {
     "name": "stdout",
     "output_type": "stream",
     "text": [
      "(1000, 537701)\n"
     ]
    },
    {
     "data": {
      "text/plain": [
       "array(['00', '00 but', '00 but it', '00 but it sworth', '00 rental',\n",
       "       '00 rental fee', '00 rental fee you', '00 replacement',\n",
       "       '00 replacement fee', '00 replacement fee you', '000', '000 but',\n",
       "       '000 but instead', '000 but instead of', '000 if', '000 if not',\n",
       "       '000 if not considerably', '000 in', '000 in compensation',\n",
       "       '000 in compensation throughout'], dtype=object)"
      ]
     },
     "execution_count": 122,
     "metadata": {},
     "output_type": "execute_result"
    }
   ],
   "source": [
    "vect_n = CountVectorizer(ngram_range=(1,4))\n",
    "vect_n.fit(X_train)\n",
    "X_train_n = vect_n.transform(X_train)\n",
    "print(X_train_n.shape)\n",
    "vect_n.get_feature_names_out()[:20]"
   ]
  },
  {
   "cell_type": "code",
   "execution_count": 123,
   "id": "2ebaa8ee",
   "metadata": {},
   "outputs": [
    {
     "data": {
      "text/plain": [
       "GridSearchCV(cv=3,\n",
       "             estimator=Pipeline(steps=[('countvectorizer',\n",
       "                                        CountVectorizer(ngram_range=(2, 2))),\n",
       "                                       ('logisticregression',\n",
       "                                        LogisticRegression(max_iter=10000))]),\n",
       "             param_grid={'logisticregression__C': [0.1, 1, 10]})"
      ]
     },
     "execution_count": 123,
     "metadata": {},
     "output_type": "execute_result"
    }
   ],
   "source": [
    "param_grid = {'logisticregression__C':[ 0.1, 1,10]}\n",
    "pipe = make_pipeline( CountVectorizer(ngram_range=(2,2)), LogisticRegression(max_iter=10_000) )\n",
    "gs = GridSearchCV(pipe, param_grid, cv=3)\n",
    "gs.fit(X_train, y_train)"
   ]
  },
  {
   "cell_type": "code",
   "execution_count": 124,
   "id": "c0ebc7ad",
   "metadata": {},
   "outputs": [
    {
     "data": {
      "text/plain": [
       "1.0"
      ]
     },
     "execution_count": 124,
     "metadata": {},
     "output_type": "execute_result"
    }
   ],
   "source": [
    "gs.score(X_train, y_train)"
   ]
  },
  {
   "cell_type": "code",
   "execution_count": 125,
   "id": "68b0953d",
   "metadata": {},
   "outputs": [
    {
     "data": {
      "text/plain": [
       "0.757"
      ]
     },
     "execution_count": 125,
     "metadata": {},
     "output_type": "execute_result"
    }
   ],
   "source": [
    "gs.score(X_test, y_test)"
   ]
  },
  {
   "cell_type": "code",
   "execution_count": 126,
   "id": "496efdbb",
   "metadata": {},
   "outputs": [
    {
     "data": {
      "text/plain": [
       "{'logisticregression__C': 10}"
      ]
     },
     "execution_count": 126,
     "metadata": {},
     "output_type": "execute_result"
    }
   ],
   "source": [
    "gs.best_params_"
   ]
  },
  {
   "cell_type": "code",
   "execution_count": 127,
   "id": "c2a5446d",
   "metadata": {},
   "outputs": [
    {
     "data": {
      "text/plain": [
       "array([[ 0.01976837, -0.02070961, -0.02070961, ...,  0.013511  ,\n",
       "        -0.00850473, -0.01201836]])"
      ]
     },
     "execution_count": 127,
     "metadata": {},
     "output_type": "execute_result"
    }
   ],
   "source": [
    "gs.best_estimator_.steps[1][1].coef_"
   ]
  },
  {
   "cell_type": "markdown",
   "id": "d6a62af3",
   "metadata": {},
   "source": [
    "# Lemmanization"
   ]
  },
  {
   "cell_type": "code",
   "execution_count": 132,
   "id": "2aa91854",
   "metadata": {},
   "outputs": [],
   "source": [
    "nlp = spacy.load('en_core_web_sm')"
   ]
  },
  {
   "cell_type": "code",
   "execution_count": 133,
   "id": "3db837ba",
   "metadata": {},
   "outputs": [],
   "source": [
    "def lemma_tokenizer(review):\n",
    "    return [token.lemma_ for token in nlp(review)]"
   ]
  },
  {
   "cell_type": "code",
   "execution_count": 134,
   "id": "11eb4444",
   "metadata": {},
   "outputs": [
    {
     "data": {
      "text/plain": [
       "['go', 'go', 'go', 'go']"
      ]
     },
     "execution_count": 134,
     "metadata": {},
     "output_type": "execute_result"
    }
   ],
   "source": [
    "lemma_tokenizer('go went going goes')"
   ]
  },
  {
   "cell_type": "code",
   "execution_count": 145,
   "id": "2d0877a2",
   "metadata": {},
   "outputs": [
    {
     "data": {
      "text/plain": [
       "CountVectorizer(min_df=3,\n",
       "                tokenizer=<function lemma_tokenizer at 0x000002A234B8FC80>)"
      ]
     },
     "execution_count": 145,
     "metadata": {},
     "output_type": "execute_result"
    }
   ],
   "source": [
    "vect_lemma = CountVectorizer(tokenizer=lemma_tokenizer, min_df=3)\n",
    "vect_lemma.fit(X_train)"
   ]
  },
  {
   "cell_type": "code",
   "execution_count": 146,
   "id": "cdba6504",
   "metadata": {
    "scrolled": true
   },
   "outputs": [
    {
     "data": {
      "text/plain": [
       "array(['!', '\"', '\"the', ..., '\\x85', '\\x85 ', '\\x96'], dtype=object)"
      ]
     },
     "execution_count": 146,
     "metadata": {},
     "output_type": "execute_result"
    }
   ],
   "source": [
    "vect_lemma.get_feature_names_out()"
   ]
  },
  {
   "cell_type": "code",
   "execution_count": 147,
   "id": "f5145817",
   "metadata": {},
   "outputs": [
    {
     "data": {
      "text/plain": [
       "array(['yard', 'yash', 'yawn', 'yeah', 'year', 'yearn', 'yell', 'yellow',\n",
       "       'yes', 'yesterday', 'yet', 'yoko', 'york', 'yorker', 'you',\n",
       "       'young', 'your', 'yourself', 'youth', 'zero', 'zeta', 'zoe',\n",
       "       'zombie', 'zone', 'zoom', '{', '}', '\\x85', '\\x85 ', '\\x96'],\n",
       "      dtype=object)"
      ]
     },
     "execution_count": 147,
     "metadata": {},
     "output_type": "execute_result"
    }
   ],
   "source": [
    "vect_lemma.get_feature_names_out()[-30:]"
   ]
  },
  {
   "cell_type": "code",
   "execution_count": 151,
   "id": "edb01ca0",
   "metadata": {},
   "outputs": [
    {
     "data": {
      "text/plain": [
       "4985"
      ]
     },
     "execution_count": 151,
     "metadata": {},
     "output_type": "execute_result"
    }
   ],
   "source": [
    "len(vect_lemma.get_feature_names_out())"
   ]
  },
  {
   "cell_type": "code",
   "execution_count": 148,
   "id": "9761cd00",
   "metadata": {},
   "outputs": [],
   "source": [
    "X_train_lemma = vect_lemma.transform(X_train)"
   ]
  },
  {
   "cell_type": "code",
   "execution_count": 149,
   "id": "f54f8b7a",
   "metadata": {},
   "outputs": [
    {
     "data": {
      "text/plain": [
       "array([0.745, 0.75 , 0.77 , 0.81 , 0.81 ])"
      ]
     },
     "execution_count": 149,
     "metadata": {},
     "output_type": "execute_result"
    }
   ],
   "source": [
    "scores = cross_val_score(LogisticRegression(max_iter=1000), X_train_lemma, y_train, cv=5)\n",
    "scores"
   ]
  },
  {
   "cell_type": "code",
   "execution_count": 150,
   "id": "d549a6c9",
   "metadata": {},
   "outputs": [
    {
     "data": {
      "text/plain": [
       "0.777"
      ]
     },
     "execution_count": 150,
     "metadata": {},
     "output_type": "execute_result"
    }
   ],
   "source": [
    "scores.mean()"
   ]
  },
  {
   "cell_type": "markdown",
   "id": "73d65ed8",
   "metadata": {},
   "source": [
    "# Stemming"
   ]
  },
  {
   "cell_type": "code",
   "execution_count": 152,
   "id": "0bdab278",
   "metadata": {},
   "outputs": [],
   "source": [
    "stemmer = nltk.stem.PorterStemmer()"
   ]
  },
  {
   "cell_type": "code",
   "execution_count": 153,
   "id": "11f9007d",
   "metadata": {},
   "outputs": [],
   "source": [
    "def stem_tokenizer(review):\n",
    "    return [ stemmer.stem(token.norm_.lower()) for token in nlp(review)]"
   ]
  },
  {
   "cell_type": "code",
   "execution_count": 154,
   "id": "233251f9",
   "metadata": {},
   "outputs": [
    {
     "data": {
      "text/plain": [
       "['go', 'went', 'go', 'goe']"
      ]
     },
     "execution_count": 154,
     "metadata": {},
     "output_type": "execute_result"
    }
   ],
   "source": [
    "stem_tokenizer('go went going goes')"
   ]
  },
  {
   "cell_type": "code",
   "execution_count": 156,
   "id": "64980ace",
   "metadata": {
    "scrolled": true
   },
   "outputs": [
    {
     "data": {
      "text/plain": [
       "CountVectorizer(min_df=10,\n",
       "                tokenizer=<function stem_tokenizer at 0x000002A2387D7C80>)"
      ]
     },
     "execution_count": 156,
     "metadata": {},
     "output_type": "execute_result"
    }
   ],
   "source": [
    "vect_stem = CountVectorizer(tokenizer=stem_tokenizer, min_df=10)\n",
    "vect_stem.fit(X_train)"
   ]
  },
  {
   "cell_type": "code",
   "execution_count": 157,
   "id": "545bbabc",
   "metadata": {
    "scrolled": true
   },
   "outputs": [
    {
     "data": {
      "text/plain": [
       "array(['!', '\"', '$', ..., 'zombi', '\\x85', '\\x96'], dtype=object)"
      ]
     },
     "execution_count": 157,
     "metadata": {},
     "output_type": "execute_result"
    }
   ],
   "source": [
    "vect_stem.get_feature_names_out()"
   ]
  },
  {
   "cell_type": "code",
   "execution_count": 158,
   "id": "01f96c84",
   "metadata": {},
   "outputs": [
    {
     "data": {
      "text/plain": [
       "array(['wood', 'word', 'work', 'world', 'wors', 'worst', 'worth',\n",
       "       'worthi', 'would', 'wow', 'write', 'writer', 'written', 'wrong',\n",
       "       'wrote', 'ye', 'yeah', 'year', 'yet', 'york', 'you', 'young',\n",
       "       'younger', 'your', 'yourself', 'youth', 'zero', 'zombi', '\\x85',\n",
       "       '\\x96'], dtype=object)"
      ]
     },
     "execution_count": 158,
     "metadata": {},
     "output_type": "execute_result"
    }
   ],
   "source": [
    "vect_stem.get_feature_names_out()[-30:]"
   ]
  },
  {
   "cell_type": "code",
   "execution_count": 159,
   "id": "74912792",
   "metadata": {},
   "outputs": [
    {
     "data": {
      "text/plain": [
       "1847"
      ]
     },
     "execution_count": 159,
     "metadata": {},
     "output_type": "execute_result"
    }
   ],
   "source": [
    "len(vect_stem.get_feature_names_out())"
   ]
  },
  {
   "cell_type": "code",
   "execution_count": 160,
   "id": "5a62e41a",
   "metadata": {},
   "outputs": [],
   "source": [
    "X_train_stem = vect_stem.transform(X_train)"
   ]
  },
  {
   "cell_type": "code",
   "execution_count": 161,
   "id": "53eb5c1c",
   "metadata": {},
   "outputs": [
    {
     "data": {
      "text/plain": [
       "array([0.75 , 0.785, 0.765, 0.795, 0.785])"
      ]
     },
     "execution_count": 161,
     "metadata": {},
     "output_type": "execute_result"
    }
   ],
   "source": [
    "scores = cross_val_score(LogisticRegression(max_iter=1000), X_train_stem, y_train, cv=5)\n",
    "scores"
   ]
  },
  {
   "cell_type": "code",
   "execution_count": 162,
   "id": "32581f74",
   "metadata": {},
   "outputs": [
    {
     "data": {
      "text/plain": [
       "0.776"
      ]
     },
     "execution_count": 162,
     "metadata": {},
     "output_type": "execute_result"
    }
   ],
   "source": [
    "scores.mean()"
   ]
  },
  {
   "cell_type": "markdown",
   "id": "93cb9889",
   "metadata": {},
   "source": [
    "# LDA"
   ]
  },
  {
   "cell_type": "code",
   "execution_count": 192,
   "id": "5d8f1455",
   "metadata": {},
   "outputs": [],
   "source": [
    "vect = CountVectorizer(max_features = 10_000, max_df=0.15)\n",
    "X = vect.fit_transform(X_train)"
   ]
  },
  {
   "cell_type": "code",
   "execution_count": 193,
   "id": "0a6e06dd",
   "metadata": {},
   "outputs": [
    {
     "data": {
      "text/plain": [
       "array(['00', '000', '10', ..., 'zorro', 'zubeidaa', 'zuzz'], dtype=object)"
      ]
     },
     "execution_count": 193,
     "metadata": {},
     "output_type": "execute_result"
    }
   ],
   "source": [
    "f_names = vect.get_feature_names_out()\n",
    "f_names"
   ]
  },
  {
   "cell_type": "code",
   "execution_count": 194,
   "id": "d982c379",
   "metadata": {},
   "outputs": [
    {
     "data": {
      "text/plain": [
       "(10000,)"
      ]
     },
     "execution_count": 194,
     "metadata": {},
     "output_type": "execute_result"
    }
   ],
   "source": [
    "f_names.shape"
   ]
  },
  {
   "cell_type": "code",
   "execution_count": 195,
   "id": "acf05b47",
   "metadata": {},
   "outputs": [
    {
     "data": {
      "text/plain": [
       "(1000, 10000)"
      ]
     },
     "execution_count": 195,
     "metadata": {},
     "output_type": "execute_result"
    }
   ],
   "source": [
    "X.shape"
   ]
  },
  {
   "cell_type": "code",
   "execution_count": 196,
   "id": "a6a0aebf",
   "metadata": {},
   "outputs": [],
   "source": [
    "lda = LDA(n_components=10, random_state=0)"
   ]
  },
  {
   "cell_type": "code",
   "execution_count": 197,
   "id": "b54c5207",
   "metadata": {},
   "outputs": [
    {
     "data": {
      "text/plain": [
       "LatentDirichletAllocation(random_state=0)"
      ]
     },
     "execution_count": 197,
     "metadata": {},
     "output_type": "execute_result"
    }
   ],
   "source": [
    "lda.fit(X)"
   ]
  },
  {
   "cell_type": "code",
   "execution_count": 198,
   "id": "e060b8f0",
   "metadata": {},
   "outputs": [
    {
     "data": {
      "text/plain": [
       "(10, 10000)"
      ]
     },
     "execution_count": 198,
     "metadata": {},
     "output_type": "execute_result"
    }
   ],
   "source": [
    "lda.components_.shape"
   ]
  },
  {
   "cell_type": "code",
   "execution_count": 199,
   "id": "04606921",
   "metadata": {},
   "outputs": [
    {
     "data": {
      "text/plain": [
       "(10, 10000)"
      ]
     },
     "execution_count": 199,
     "metadata": {},
     "output_type": "execute_result"
    }
   ],
   "source": [
    "topics = lda.components_\n",
    "topics.shape"
   ]
  },
  {
   "cell_type": "code",
   "execution_count": 200,
   "id": "4b024933",
   "metadata": {},
   "outputs": [
    {
     "data": {
      "text/plain": [
       "(25.094281175409325, 0.10000000000234621)"
      ]
     },
     "execution_count": 200,
     "metadata": {},
     "output_type": "execute_result"
    }
   ],
   "source": [
    "max(topics[0]), min(topics[0])"
   ]
  },
  {
   "cell_type": "code",
   "execution_count": 201,
   "id": "1effa3a6",
   "metadata": {},
   "outputs": [
    {
     "data": {
      "text/plain": [
       "array([5577, 2586, 9986, ..., 1741, 9942,    2], dtype=int64)"
      ]
     },
     "execution_count": 201,
     "metadata": {},
     "output_type": "execute_result"
    }
   ],
   "source": [
    "sorted_top0 = np.argsort(topics[0])\n",
    "sorted_top0"
   ]
  },
  {
   "cell_type": "code",
   "execution_count": 202,
   "id": "43fcb196",
   "metadata": {},
   "outputs": [
    {
     "data": {
      "text/plain": [
       "array([7009,  410, 8794, 4586, 4433,  921, 7902, 1741, 9942,    2],\n",
       "      dtype=int64)"
      ]
     },
     "execution_count": 202,
     "metadata": {},
     "output_type": "execute_result"
    }
   ],
   "source": [
    "sorted_top0[-10:]"
   ]
  },
  {
   "cell_type": "code",
   "execution_count": 203,
   "id": "55f1895a",
   "metadata": {},
   "outputs": [
    {
     "data": {
      "text/plain": [
       "array(['re', 'am', 'thought', 'john', 'interesting', 'between', 'show',\n",
       "       'comedy', 'young', '10'], dtype=object)"
      ]
     },
     "execution_count": 203,
     "metadata": {},
     "output_type": "execute_result"
    }
   ],
   "source": [
    "f_names[sorted_top0[-10:]]"
   ]
  },
  {
   "cell_type": "code",
   "execution_count": 204,
   "id": "8f50d213",
   "metadata": {},
   "outputs": [
    {
     "data": {
      "image/png": "[encoded data removed]",
      "text/plain": [
       "<Figure size 432x288 with 1 Axes>"
      ]
     },
     "metadata": {
      "needs_background": "light"
     },
     "output_type": "display_data"
    }
   ],
   "source": [
    "plt.title('Topic-0')\n",
    "plt.bar(f_names[sorted_top0[-10:]], topics[0][sorted_top0[-10:]] )\n",
    "plt.xticks(rotation=60);"
   ]
  },
  {
   "cell_type": "code",
   "execution_count": 210,
   "id": "167e5df8",
   "metadata": {},
   "outputs": [
    {
     "data": {
      "image/png": "[encoded data removed]",
      "text/plain": [
       "<Figure size 1440x432 with 10 Axes>"
      ]
     },
     "metadata": {
      "needs_background": "light"
     },
     "output_type": "display_data"
    }
   ],
   "source": [
    "plt.figure(figsize=(20,6))\n",
    "for i in range(10):\n",
    "    plt.subplot(2,5,i+1)\n",
    "    plt.title(f'Topic-{i}')\n",
    "    sorted_top = np.argsort(topics[i])\n",
    "    plt.bar(f_names[sorted_top[-10:]], topics[i][sorted_top[-10:]] )\n",
    "    plt.xticks(rotation=60)\n",
    "plt.tight_layout();"
   ]
  },
  {
   "cell_type": "code",
   "execution_count": 212,
   "id": "609d9ba9",
   "metadata": {},
   "outputs": [
    {
     "name": "stdout",
     "output_type": "stream",
     "text": [
      "Topic-0: ['thought' 'john' 'interesting' 'between' 'show' 'comedy' 'young' '10']\n",
      "Topic-1: ['davies' 'world' 'pokemon' 'show' 'saw' 'cast' 'girl' 're']\n",
      "Topic-2: ['take' '10' 'may' 'dominick' 'same' 'seems' 'lincoln' 'funny']\n",
      "Topic-3: ['each' 'young' 're' 'family' 'now' 'through' 'goes' 'real']\n",
      "Topic-4: ['quite' 'woman' 'take' 'got' 'another' 'doesn' 'seems' 'same']\n",
      "Topic-5: ['luke' 'now' 'second' 'game' 'll' 'same' 'book' 'show']\n",
      "Topic-6: ['director' 'far' 'through' 'world' 'things' 'before' 'few' 'want']\n",
      "Topic-7: ['new' 'real' 'years' 'world' 'old' 'another' 'lot' 'show']\n",
      "Topic-8: ['young' 'trying' 'lot' 'cast' 'actors' 'girl' 'family' 'script']\n",
      "Topic-9: ['now' 'part' 'director' 'nothing' 'us' 'old' 'original' 'show']\n"
     ]
    }
   ],
   "source": [
    "for i in range(10):\n",
    "    sorted_top = np.argsort(topics[i])\n",
    "    print(f'Topic-{i}: {f_names[sorted_top[-8:]]}')"
   ]
  },
  {
   "cell_type": "code",
   "execution_count": 215,
   "id": "089c4534",
   "metadata": {},
   "outputs": [
    {
     "data": {
      "text/plain": [
       "(1000, 10)"
      ]
     },
     "execution_count": 215,
     "metadata": {},
     "output_type": "execute_result"
    }
   ],
   "source": [
    "lda_doc = lda.transform(X)\n",
    "lda_doc.shape"
   ]
  },
  {
   "cell_type": "code",
   "execution_count": 216,
   "id": "273d5906",
   "metadata": {},
   "outputs": [
    {
     "data": {
      "text/plain": [
       "array([0.00175469, 0.00175465, 0.00175481, 0.00175481, 0.00175483,\n",
       "       0.98420709, 0.00175481, 0.00175485, 0.00175469, 0.00175477])"
      ]
     },
     "execution_count": 216,
     "metadata": {},
     "output_type": "execute_result"
    }
   ],
   "source": [
    "lda_doc[0]"
   ]
  },
  {
   "cell_type": "code",
   "execution_count": 217,
   "id": "4fd6b487",
   "metadata": {},
   "outputs": [
    {
     "data": {
      "text/plain": [
       "['T-0', 'T-1', 'T-2', 'T-3', 'T-4', 'T-5', 'T-6', 'T-7', 'T-8', 'T-9']"
      ]
     },
     "execution_count": 217,
     "metadata": {},
     "output_type": "execute_result"
    }
   ],
   "source": [
    "[f'T-{i}' for i in range(10)]"
   ]
  },
  {
   "cell_type": "code",
   "execution_count": 222,
   "id": "4a4bcaae",
   "metadata": {},
   "outputs": [
    {
     "data": {
      "image/png": "[encoded data removed]",
      "text/plain": [
       "<Figure size 1440x720 with 20 Axes>"
      ]
     },
     "metadata": {
      "needs_background": "light"
     },
     "output_type": "display_data"
    }
   ],
   "source": [
    "plt.figure(figsize=(20,10))\n",
    "for i in range(20):\n",
    "    plt.subplot(4,5,i+1)\n",
    "    plt.title(f'X_train[{i}]')\n",
    "    plt.bar([f'T-{i}' for i in range(10)], lda_doc[i])\n",
    "plt.tight_layout();"
   ]
  },
  {
   "cell_type": "code",
   "execution_count": 223,
   "id": "aac68e74",
   "metadata": {},
   "outputs": [
    {
     "data": {
      "text/plain": [
       "b\"Zero Day leads you to think, even re-think why two boys/young men would do what they did - commit mutual suicide via slaughtering their classmates. It captures what must be beyond a bizarre mode of being for two humans who have decided to withdraw from common civility in order to define their own/mutual world via coupled destruction.It is not a perfect movie but given what money/time the filmmaker and actors had - it is a remarkable product. In terms of explaining the motives and actions of the two young suicide/murderers it is better than 'Elephant' - in terms of being a film that gets under our 'rationalistic' skin it is a far, far better film than almost anything you are likely to see. Flawed but honest with a terrible honesty.\""
      ]
     },
     "execution_count": 223,
     "metadata": {},
     "output_type": "execute_result"
    }
   ],
   "source": [
    "X_train[0]"
   ]
  },
  {
   "cell_type": "markdown",
   "id": "e9e7485b",
   "metadata": {},
   "source": [
    "# Appendix"
   ]
  },
  {
   "cell_type": "markdown",
   "id": "8d239c1a",
   "metadata": {},
   "source": [
    "## replace()"
   ]
  },
  {
   "cell_type": "code",
   "execution_count": 70,
   "id": "cf1cac60",
   "metadata": {},
   "outputs": [
    {
     "data": {
      "text/plain": [
       "'Michael Tordan'"
      ]
     },
     "execution_count": 70,
     "metadata": {},
     "output_type": "execute_result"
    }
   ],
   "source": [
    "name = 'Michael Jordan'\n",
    "name.replace('J', 'T')"
   ]
  },
  {
   "cell_type": "code",
   "execution_count": 71,
   "id": "47b4182f",
   "metadata": {},
   "outputs": [
    {
     "data": {
      "text/plain": [
       "'Michael Jo dan'"
      ]
     },
     "execution_count": 71,
     "metadata": {},
     "output_type": "execute_result"
    }
   ],
   "source": [
    "name = 'Michael Jordan'\n",
    "name.replace('r', ' ')"
   ]
  },
  {
   "cell_type": "code",
   "execution_count": 72,
   "id": "78e17667",
   "metadata": {},
   "outputs": [
    {
     "data": {
      "text/plain": [
       "'Michael Jordan'"
      ]
     },
     "execution_count": 72,
     "metadata": {},
     "output_type": "execute_result"
    }
   ],
   "source": [
    "name"
   ]
  },
  {
   "cell_type": "code",
   "execution_count": 73,
   "id": "5acb312c",
   "metadata": {},
   "outputs": [
    {
     "data": {
      "text/plain": [
       "'Michael Tordan'"
      ]
     },
     "execution_count": 73,
     "metadata": {},
     "output_type": "execute_result"
    }
   ],
   "source": [
    "name = name.replace('J', 'T')\n",
    "name"
   ]
  },
  {
   "cell_type": "markdown",
   "id": "25bd1ba8",
   "metadata": {},
   "source": [
    "## argsort()"
   ]
  },
  {
   "cell_type": "code",
   "execution_count": 79,
   "id": "daefbfb3",
   "metadata": {},
   "outputs": [],
   "source": [
    "myarray = np.array([10, 2, 6, 1, 8])"
   ]
  },
  {
   "cell_type": "code",
   "execution_count": 80,
   "id": "56a77a15",
   "metadata": {},
   "outputs": [
    {
     "data": {
      "text/plain": [
       "0"
      ]
     },
     "execution_count": 80,
     "metadata": {},
     "output_type": "execute_result"
    }
   ],
   "source": [
    "myarray.argmax() # index of the largest value"
   ]
  },
  {
   "cell_type": "code",
   "execution_count": 81,
   "id": "9b0b0133",
   "metadata": {},
   "outputs": [
    {
     "data": {
      "text/plain": [
       "3"
      ]
     },
     "execution_count": 81,
     "metadata": {},
     "output_type": "execute_result"
    }
   ],
   "source": [
    "myarray.argmin() # index of the min value"
   ]
  },
  {
   "cell_type": "code",
   "execution_count": 82,
   "id": "06dff276",
   "metadata": {},
   "outputs": [
    {
     "data": {
      "text/plain": [
       "array([3, 1, 2, 4, 0], dtype=int64)"
      ]
     },
     "execution_count": 82,
     "metadata": {},
     "output_type": "execute_result"
    }
   ],
   "source": [
    "myarray.argsort() # index values from smallest to largest"
   ]
  },
  {
   "cell_type": "code",
   "execution_count": 83,
   "id": "bf2ad955",
   "metadata": {},
   "outputs": [],
   "source": [
    "myarray.sort()"
   ]
  },
  {
   "cell_type": "code",
   "execution_count": 84,
   "id": "c9bd9830",
   "metadata": {},
   "outputs": [
    {
     "data": {
      "text/plain": [
       "array([ 1,  2,  6,  8, 10])"
      ]
     },
     "execution_count": 84,
     "metadata": {},
     "output_type": "execute_result"
    }
   ],
   "source": [
    "myarray"
   ]
  },
  {
   "cell_type": "markdown",
   "id": "67dbabbb",
   "metadata": {},
   "source": [
    "## array dim"
   ]
  },
  {
   "cell_type": "code",
   "execution_count": 94,
   "id": "cb64b4a2",
   "metadata": {},
   "outputs": [],
   "source": [
    "myarray = np.array( [ ['a', 'b', 'c', 'd']  ]  )"
   ]
  },
  {
   "cell_type": "code",
   "execution_count": 97,
   "id": "20a12931",
   "metadata": {},
   "outputs": [
    {
     "data": {
      "text/plain": [
       "array(['a', 'b', 'c'], dtype='<U1')"
      ]
     },
     "execution_count": 97,
     "metadata": {},
     "output_type": "execute_result"
    }
   ],
   "source": [
    "myarray[0, :3]"
   ]
  },
  {
   "cell_type": "code",
   "execution_count": null,
   "id": "f447522b",
   "metadata": {},
   "outputs": [],
   "source": []
  }
 ],
 "metadata": {
  "kernelspec": {
   "display_name": "Python 3 (ipykernel)",
   "language": "python",
   "name": "python3"
  },
  "language_info": {
   "codemirror_mode": {
    "name": "ipython",
    "version": 3
   },
   "file_extension": ".py",
   "mimetype": "text/x-python",
   "name": "python",
   "nbconvert_exporter": "python",
   "pygments_lexer": "ipython3",
   "version": "3.11.7"
  },
  "toc": {
   "base_numbering": 1,
   "nav_menu": {},
   "number_sections": true,
   "sideBar": true,
   "skip_h1_title": false,
   "title_cell": "Table of Contents",
   "title_sidebar": "Contents",
   "toc_cell": false,
   "toc_position": {
    "height": "calc(100% - 180px)",
    "left": "10px",
    "top": "150px",
    "width": "230.64px"
   },
   "toc_section_display": true,
   "toc_window_display": true
  }
 },
 "nbformat": 4,
 "nbformat_minor": 5
}
